{
  "nbformat": 4,
  "nbformat_minor": 0,
  "metadata": {
    "colab": {
      "provenance": []
    },
    "kernelspec": {
      "name": "python3",
      "display_name": "Python 3"
    },
    "language_info": {
      "name": "python"
    }
  },
  "cells": [
    {
      "cell_type": "markdown",
      "source": [
        "Chatbots are no longer just basic FAQ bots—they're becoming intelligent, conversational interfaces powered by Large Language Models (LLMs). These models bring natural fluency, context awareness, and adaptability, enabling chatbots to engage in meaningful, open-ended conversations.\n",
        "\n",
        "By leveraging LLMs, data scientists can build bots that go far beyond scripted replies. Imagine a support bot trained on your company’s manuals and tickets—it can understand complex questions, retrieve relevant answers, and deliver personalized support.\n",
        "\n",
        "As LLMs continue to evolve, data scientists play a critical role in addressing challenges, ensuring ethical AI use, and unlocking new possibilities. The future of chatbots is intelligent, personalized, and deeply human-centric."
      ],
      "metadata": {
        "id": "ydSrHYAl203L"
      }
    },
    {
      "cell_type": "markdown",
      "source": [
        "**I want to design a chatbot with the capability to retain information from previous prompts and responses, enabling it to maintain context throughout the conversation.**"
      ],
      "metadata": {
        "id": "d1-gvqL93K1r"
      }
    },
    {
      "cell_type": "markdown",
      "source": [
        "### 1: Installations and Settings 🛠️"
      ],
      "metadata": {
        "id": "19F2mfXw3w1h"
      }
    },
    {
      "cell_type": "code",
      "execution_count": 3,
      "metadata": {
        "id": "umfUy-Mv2lzi"
      },
      "outputs": [],
      "source": [
        "!pip install -qqq llama-index-llms-groq\n",
        "!pip install -qqq llama-index-core"
      ]
    },
    {
      "cell_type": "code",
      "source": [
        "import os"
      ],
      "metadata": {
        "id": "1C7pRGfu5GPj"
      },
      "execution_count": 4,
      "outputs": []
    },
    {
      "cell_type": "code",
      "source": [
        "from google.colab import userdata\n",
        "\n",
        "os.environ[\"GROQ_API_KEY\"] = userdata.get(\"GROQ_API_KEY\")"
      ],
      "metadata": {
        "id": "Iu5OyejQ5KKz"
      },
      "execution_count": 5,
      "outputs": []
    },
    {
      "cell_type": "markdown",
      "source": [
        "### 2: Setting up my LLM 🧠"
      ],
      "metadata": {
        "id": "KwlCqOry5lBp"
      }
    },
    {
      "cell_type": "code",
      "source": [
        "from llama_index.llms.groq import Groq\n",
        "\n",
        "model = \"llama3-70b-8192\"\n",
        "\n",
        "model = \"llama3-70b-8192\"\n",
        "\n",
        "llm = Groq(\n",
        "    model=model,\n",
        "    max_new_tokens=512,\n",
        "    temperature=0.01,\n",
        "    top_p=0.95,\n",
        "    repetition_penalty=1.03,\n",
        "    token=os.environ.get(\"GROQ_API_KEY\"),\n",
        ")"
      ],
      "metadata": {
        "id": "0u24efem5diC"
      },
      "execution_count": 9,
      "outputs": []
    },
    {
      "cell_type": "code",
      "source": [
        "answer_1 = llm.complete(\"What is the key concept of Giorgio Agamben?\")\n",
        "print(answer_1)"
      ],
      "metadata": {
        "colab": {
          "base_uri": "https://localhost:8080/"
        },
        "id": "yP_OwesoBo7h",
        "outputId": "870069ab-2e64-400a-fdad-d1a9e97dc33b"
      },
      "execution_count": 11,
      "outputs": [
        {
          "output_type": "stream",
          "name": "stdout",
          "text": [
            "Giorgio Agamben is an Italian philosopher known for his critical and provocative ideas on politics, ethics, and aesthetics. While his work is diverse and complex, some key concepts that are central to his thought include:\n",
            "\n",
            "1. **The State of Exception**: Agamben's most famous concept, introduced in his book \"State of Exception\" (2005). He argues that modern democracies have created a permanent state of exception, where the rule of law is suspended, and the sovereign power can act arbitrarily. This state of exception has become the norm, rather than an exception.\n",
            "2. **Homo Sacer** (Sacred Man): In his book \"Homo Sacer: Sovereign Power and Bare Life\" (1998), Agamben introduces the concept of Homo Sacer, a figure who is excluded from the political community and reduced to \"bare life\" (zoe), stripped of political and legal rights. This concept critiques the way modern democracies treat certain individuals, such as refugees, prisoners, and the marginalized.\n",
            "3. **Bare Life** (Zoe): Agamben distinguishes between two forms of life: bios (politically qualified life) and zoe (bare life). Bare life is the mere fact of living, stripped of political and social significance. He argues that modern democracies often reduce individuals to bare life, denying them political and legal rights.\n",
            "4. **The Camp**: Agamben sees the concentration camp as a paradigm for modern politics. The camp represents a space where the state of exception is realized, and individuals are reduced to bare life. He argues that the camp is not an anomaly but rather a logical consequence of modern democracy's tendency to create states of exception.\n",
            "5. **The Coming Community**: In his book \"The Coming Community\" (1993), Agamben envisions a community that is not based on identity, nationality, or citizenship, but rather on the shared experience of being human. This community is not a utopian ideal but rather a possibility that emerges from the critique of modern democracy.\n",
            "6. **The Idea of Potentiality**: Agamben draws on Aristotle's concept of potentiality (dunamis) to argue that human beings have a potential for being that is not fully realized in modern democracies. He sees potentiality as a way to rethink politics and ethics, focusing on the possibilities of human existence rather than its actualizations.\n",
            "7. **The Critique of Sovereignty**: Agamben critiques the traditional concept of sovereignty, arguing that it\n"
          ]
        }
      ]
    },
    {
      "cell_type": "code",
      "source": [
        "answer_2 = llm.complete(\"What is his first book?\")\n",
        "print(answer_2)"
      ],
      "metadata": {
        "colab": {
          "base_uri": "https://localhost:8080/"
        },
        "id": "PsaRWYqbCL5N",
        "outputId": "4d9af1f3-8e97-4d35-8cff-44dca724cf5a"
      },
      "execution_count": 12,
      "outputs": [
        {
          "output_type": "stream",
          "name": "stdout",
          "text": [
            "I'm happy to help! However, I need more context. Who is the author you're referring to? Could you please provide more information or clarify which author's first book you're asking about?\n"
          ]
        }
      ]
    },
    {
      "cell_type": "markdown",
      "source": [
        "*As you know, this model cannot retain previous conversations.\n",
        "If we want to have a more natural conversation that retains previous information, we need to use more advanced techniques.\n",
        "Let’s do it*"
      ],
      "metadata": {
        "id": "n1plW9KrC7bY"
      }
    },
    {
      "cell_type": "markdown",
      "source": [
        "To transform a basic LLM into a chatbot, we'll need to infuse it with additional functionalities: prompts, memory, and engines.\n",
        "\n",
        "`Prompts` are like the instructions you give the chatbot to tell it what to do. Whether you want it to write a poem, translate a language, or answer your questions. They provide the context and purpose for its responses.\n",
        "\n",
        "`Memory` is like the chatbot's brain. It stores information from previous interactions, allowing it to remember what you've said and keep conversations flowing naturally.\n",
        "\n",
        "`engine` drives the other pieces of the chatbot. It tells the LLM how to process your prompts, how to access the memory bank, and how to generate its responses.\n",
        "\n",
        "In essence, prompts provide the direction, memory retains the context, and engines orchestrate the interactions."
      ],
      "metadata": {
        "id": "AnCqrGUEEa73"
      }
    },
    {
      "cell_type": "code",
      "source": [
        "from llama_index.core.chat_engine import SimpleChatEngine\n",
        "from llama_index.core.base.llms.types import ChatMessage, MessageRole\n",
        "\n",
        "prompts = [\n",
        "          ChatMessage(\n",
        "              role = MessageRole.SYSTEM,\n",
        "              content = \"You are a chatbot with good knowledge in philosophy and having a conversation with a human.\"\n",
        "          ),\n",
        "          ChatMessage(\n",
        "              role= MessageRole.SYSTEM,\n",
        "              content = \"keep your answer succinct\"\n",
        "          ),\n",
        "\n",
        "]\n",
        "\n",
        "\n",
        "conversation = SimpleChatEngine.from_defaults(\n",
        "                                             llm = llm,\n",
        "                                             prefix_message = prompts)"
      ],
      "metadata": {
        "id": "I8LSc7R5C-A1"
      },
      "execution_count": 15,
      "outputs": []
    },
    {
      "cell_type": "markdown",
      "source": [
        "**Notice** : Where's the memory?\n",
        "\n",
        "It's Buried within the method from_defaults(), ChatMemoryBuffer is instantiated."
      ],
      "metadata": {
        "id": "bhf8WaPlKZ1n"
      }
    },
    {
      "cell_type": "code",
      "source": [
        "conversation._memory"
      ],
      "metadata": {
        "colab": {
          "base_uri": "https://localhost:8080/"
        },
        "id": "6udjqLsWLmMU",
        "outputId": "da376fd4-54a4-4da7-bf9e-8d5559df8b84"
      },
      "execution_count": 16,
      "outputs": [
        {
          "output_type": "execute_result",
          "data": {
            "text/plain": [
              "ChatMemoryBuffer(chat_store=SimpleChatStore(store={'chat_history': []}), chat_store_key='chat_history', token_limit=2925, tokenizer_fn=functools.partial(<bound method Encoding.encode of <Encoding 'cl100k_base'>>, allowed_special='all'))"
            ]
          },
          "metadata": {},
          "execution_count": 16
        }
      ]
    },
    {
      "cell_type": "code",
      "source": [
        "response_1 = conversation.chat(\"Who is Martin Heidegger?\")\n",
        "print(response_1)"
      ],
      "metadata": {
        "colab": {
          "base_uri": "https://localhost:8080/"
        },
        "id": "9mhQC6sqLq5u",
        "outputId": "e3b1e369-3e3b-493c-ceb6-ec6b381f8bff"
      },
      "execution_count": 17,
      "outputs": [
        {
          "output_type": "stream",
          "name": "stdout",
          "text": [
            "Martin Heidegger (1889-1976) was a German philosopher known for his existential and phenomenological philosophy. He is widely regarded as one of the most important and influential philosophers of the 20th century.\n",
            "\n",
            "Heidegger's philosophy focused on the nature of existence, being, and human existence. He is best known for his concept of \"Being-in-the-world,\" which posits that human existence is characterized by its practical and ontological relationship with the world. He argued that humans are not just abstract thinking beings, but beings that are fundamentally situated in a world that shapes their existence.\n",
            "\n",
            "Heidegger's magnum opus, \"Being and Time\" (1927), is considered one of the most important philosophical works of the 20th century. In it, he introduced the concept of \"Dasein\" (human existence) and explored the relationship between human existence and time. He argued that traditional philosophy had forgotten the question of the meaning of being, and that this question needed to be re-examined in order to understand human existence.\n",
            "\n",
            "Heidegger's philosophy also explored the concept of \"the everyday,\" which refers to the ordinary, mundane aspects of human existence. He argued that philosophy had traditionally focused on abstract, theoretical concepts, and neglected the everyday experiences that shape human existence.\n",
            "\n",
            "Heidegger's influence extends beyond philosophy to fields such as literature, psychology, and anthropology. His ideas have influenced thinkers such as Jean-Paul Sartre, Emmanuel Levinas, and Hannah Arendt, among many others.\n",
            "\n",
            "However, Heidegger's philosophy has also been criticized for its complexity, ambiguity, and perceived obscurity. Additionally, his involvement with the Nazi party during World War II has been a subject of controversy and debate.\n",
            "\n",
            "Some of Heidegger's key concepts and ideas include:\n",
            "\n",
            "* Being-in-the-world: The idea that human existence is characterized by its practical and ontological relationship with the world.\n",
            "* Dasein: The concept of human existence, which is characterized by its unique relationship with time and the world.\n",
            "* The everyday: The ordinary, mundane aspects of human existence that shape our understanding of the world.\n",
            "* Temporality: The idea that human existence is fundamentally shaped by its relationship with time.\n",
            "* The forgetfulness of being: The idea that traditional philosophy has forgotten the question of the meaning of being, and that this question needs to be re-examined.\n",
            "\n",
            "Overall, Martin Heidegger's philosophy is complex, nuanced, and influential, and continues to shape contemporary debates in philosophy, literature\n"
          ]
        }
      ]
    },
    {
      "cell_type": "code",
      "source": [
        "response_2 = conversation.chat(\"What is his crucial concept?\")\n",
        "print(response_2)"
      ],
      "metadata": {
        "colab": {
          "base_uri": "https://localhost:8080/"
        },
        "id": "qRTl78vLMI-Y",
        "outputId": "e4e28dbc-1005-45fe-e166-b2d3f43b3d15"
      },
      "execution_count": 18,
      "outputs": [
        {
          "output_type": "stream",
          "name": "stdout",
          "text": [
            "Martin Heidegger's crucial concept is \"Being\" (German: \"Sein\"), which is the central theme of his philosophy. Heidegger's concept of Being is complex and multifaceted, but it can be summarized as follows:\n",
            "\n",
            "**The Question of Being**: Heidegger's philosophy begins with the question \"What does it mean to exist?\" or \"What is the meaning of Being?\" He argues that traditional philosophy has forgotten to ask this question, and instead, has focused on what exists (beings) rather than the nature of existence itself (Being).\n",
            "\n",
            "**The Distinction between Being and Beings**: Heidegger makes a crucial distinction between \"Being\" (Sein) and \"beings\" (Seiende). Beings refer to individual entities, such as humans, animals, objects, and so on. Being, on the other hand, refers to the fundamental existence or presence that underlies all beings.\n",
            "\n",
            "**The Concept of Dasein**: Heidegger introduces the concept of \"Dasein\" (human existence) to describe the unique way in which humans exist. Dasein is characterized by its existence in the world, its relationship with time, and its ability to ask the question of the meaning of Being.\n",
            "\n",
            "**The Temporality of Being**: Heidegger argues that Being is fundamentally temporal, meaning that it is shaped by time. He introduces the concept of \"temporality\" (Temporalität) to describe the way in which Being is structured by its relationship with time.\n",
            "\n",
            "**The Forgetfulness of Being**: Heidegger claims that traditional philosophy has forgotten the question of the meaning of Being, and has instead focused on the existence of individual beings. This forgetfulness has led to a misunderstanding of the nature of existence and the human condition.\n",
            "\n",
            "**The Goal of Heidegger's Philosophy**: Heidegger's philosophy aims to recover the question of the meaning of Being, and to understand the nature of existence in a more fundamental way. He seeks to overcome the forgetfulness of Being and to reveal the true nature of existence.\n",
            "\n",
            "In summary, Heidegger's crucial concept of Being is the central theme of his philosophy, and it is characterized by the distinction between Being and beings, the concept of Dasein, the temporality of Being, and the forgetfulness of Being.\n"
          ]
        }
      ]
    },
    {
      "cell_type": "markdown",
      "source": [
        "*As you can see, this chatbot has the capability to retain previous information*"
      ],
      "metadata": {
        "id": "i9FjUqdxM6WP"
      }
    },
    {
      "cell_type": "markdown",
      "source": [
        "**But let’s make it better**\n",
        "\n",
        "To do that we can use oue Python skills."
      ],
      "metadata": {
        "id": "iCmHea_iM9h4"
      }
    },
    {
      "cell_type": "code",
      "source": [
        "conversation_2 = SimpleChatEngine.from_defaults(\n",
        "                                                llm = llm,\n",
        "                                             prefix_message = prompts\n",
        ")\n",
        "\n",
        "\n",
        "while True:\n",
        "    user_input = input(\"You: \")\n",
        "\n",
        "    if user_input.lower() == \"end\":\n",
        "        print(\"Ending the convercation. Good Bye!\")\n",
        "        break\n",
        "    response = conversation_2.chat(user_input)\n",
        "    print(\"chatbot: \", response)\n"
      ],
      "metadata": {
        "colab": {
          "base_uri": "https://localhost:8080/"
        },
        "id": "x0WxQtdVNKMI",
        "outputId": "90abeb71-9154-4f65-95aa-e7b2cf71bb2f"
      },
      "execution_count": 19,
      "outputs": [
        {
          "output_type": "stream",
          "name": "stdout",
          "text": [
            "You: Who is Kark Marx?\n",
            "chatbot:  Karl Marx (1818-1883) was a German philosopher, economist, historian, and revolutionary. He is best known for his theories about capitalism and communism, which have had a significant impact on modern politics and economics.\n",
            "\n",
            "Marx was born in Trier, Prussia (now Germany) to a Jewish family. He studied philosophy at the University of Berlin, where he was influenced by the ideas of Georg Wilhelm Friedrich Hegel and Ludwig Feuerbach. He later earned a doctorate in philosophy from the University of Jena.\n",
            "\n",
            "Marx's early work focused on critiquing the ideas of Hegel and other philosophers. However, he soon turned his attention to economics and politics, and began to develop his own theories about the nature of society and the economy.\n",
            "\n",
            "Marx's most famous work is \"Das Kapital\" (Capital), a three-volume treatise on economics and politics that was published between 1867 and 1894. In \"Das Kapital,\" Marx argued that capitalism is based on exploitation, and that the working class (or proletariat) is exploited by the capitalist class (or bourgeoisie). He believed that this exploitation would eventually lead to a revolution, in which the working class would overthrow the capitalist class and establish a socialist society.\n",
            "\n",
            "Marx's other notable works include \"The Communist Manifesto\" (1848), which he co-authored with Friedrich Engels, and \"The German Ideology\" (1845-1846), which was published posthumously.\n",
            "\n",
            "Marx's ideas have had a significant impact on modern politics and economics. Many socialist and communist movements around the world have been influenced by his ideas, and his critique of capitalism remains an important part of contemporary debates about economic inequality and social justice.\n",
            "\n",
            "Some of Marx's key concepts include:\n",
            "\n",
            "* Alienation: Marx believed that capitalism alienates workers from their labor, their fellow workers, and their humanity.\n",
            "* Class struggle: Marx argued that all societies are divided into two main classes: the bourgeoisie (those who own the means of production) and the proletariat (those who do not own the means of production).\n",
            "* Communism: Marx believed that a communist society would be a classless society in which the means of production are owned collectively, and in which there is no exploitation.\n",
            "* Dialectical materialism: Marx's philosophical approach, which emphasizes the role of conflict and contradiction in shaping history and society.\n",
            "* Historical materialism: Marx's theory of history, which emphasizes the role of economic and class factors in shaping historical events.\n",
            "\n",
            "Overall, Karl Marx was a\n",
            "You: What is his famous book?\n",
            "chatbot:  Karl Marx's most famous book is \"Das Kapital\" (Capital), a three-volume treatise on economics and politics that was published between 1867 and 1894. However, his most widely read and influential book is probably \"The Communist Manifesto\" (1848), which he co-authored with Friedrich Engels.\n",
            "\n",
            "\"The Communist Manifesto\" is a short book that outlines the principles of communism and the goals of the communist movement. It is a powerful and influential work that has been translated into many languages and has had a significant impact on modern politics and economics.\n",
            "\n",
            "The book is divided into four sections:\n",
            "\n",
            "1. \"Bourgeois and Proletarians\" - This section describes the class struggle between the bourgeoisie (those who own the means of production) and the proletariat (those who do not own the means of production).\n",
            "2. \"Proletarians and Communists\" - This section outlines the goals and principles of the communist movement, including the abolition of private property and the establishment of a classless society.\n",
            "3. \"Socialist and Communist Literature\" - This section critiques various forms of socialism and communism that existed at the time, and argues that they are inadequate or misguided.\n",
            "4. \"Position of the Communists in Relation to the Various Existing Opposition Parties\" - This section discusses the relationship between the communist movement and other opposition parties, and argues that communists should work with other progressive forces to achieve their goals.\n",
            "\n",
            "The book ends with the famous phrase: \"The proletarians have nothing to lose but their chains. They have a world to win. Working men of all countries, unite!\"\n",
            "\n",
            "\"The Communist Manifesto\" is a powerful and influential work that has shaped modern politics and economics. It is still widely read and studied today, and its ideas continue to inspire social and political movements around the world.\n",
            "You: end\n",
            "Ending the convercation. Good Bye!\n"
          ]
        }
      ]
    }
  ]
}