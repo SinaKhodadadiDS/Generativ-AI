{
  "nbformat": 4,
  "nbformat_minor": 0,
  "metadata": {
    "colab": {
      "provenance": []
    },
    "kernelspec": {
      "name": "python3",
      "display_name": "Python 3"
    },
    "language_info": {
      "name": "python"
    }
  },
  "cells": [
    {
      "cell_type": "markdown",
      "source": [
        "**LlamaIndex** is a real framework that simplifies building applications with LLMs.\n",
        "\n",
        "**Groq** is a separate company that focuses on ultra-fast AI hardware (special processors for LLMs) and provides very fast inference for open-source models.\n"
      ],
      "metadata": {
        "id": "y5Qig0QP4Hpw"
      }
    },
    {
      "cell_type": "code",
      "execution_count": null,
      "metadata": {
        "colab": {
          "base_uri": "https://localhost:8080/"
        },
        "id": "bqRjMsqq3vIf",
        "outputId": "6711043d-4ce7-4d88-bc55-b49c030858fb"
      },
      "outputs": [
        {
          "output_type": "stream",
          "name": "stdout",
          "text": [
            "\u001b[2K   \u001b[90m━━━━━━━━━━━━━━━━━━━━━━━━━━━━━━━━━━━━━━━━\u001b[0m \u001b[32m7.7/7.7 MB\u001b[0m \u001b[31m39.2 MB/s\u001b[0m eta \u001b[36m0:00:00\u001b[0m\n",
            "\u001b[2K   \u001b[90m━━━━━━━━━━━━━━━━━━━━━━━━━━━━━━━━━━━━━━━━\u001b[0m \u001b[32m1.2/1.2 MB\u001b[0m \u001b[31m21.5 MB/s\u001b[0m eta \u001b[36m0:00:00\u001b[0m\n",
            "\u001b[2K   \u001b[90m━━━━━━━━━━━━━━━━━━━━━━━━━━━━━━━━━━━━━━━━\u001b[0m \u001b[32m50.9/50.9 kB\u001b[0m \u001b[31m2.5 MB/s\u001b[0m eta \u001b[36m0:00:00\u001b[0m\n",
            "\u001b[2K   \u001b[90m━━━━━━━━━━━━━━━━━━━━━━━━━━━━━━━━━━━━━━━━\u001b[0m \u001b[32m129.3/129.3 kB\u001b[0m \u001b[31m6.2 MB/s\u001b[0m eta \u001b[36m0:00:00\u001b[0m\n",
            "\u001b[?25h"
          ]
        }
      ],
      "source": [
        "!pip install -qqq llama-index-llms-groq"
      ]
    },
    {
      "cell_type": "code",
      "source": [
        "import os"
      ],
      "metadata": {
        "id": "DJ3i9IwO56O1"
      },
      "execution_count": null,
      "outputs": []
    },
    {
      "cell_type": "code",
      "source": [
        "from google.colab import userdata\n",
        "\n",
        "# Set the token as an environ variable\n",
        "os.environ[\"GROQ_API_KEY\"] = userdata.get(\"GROQ_API_KEY\")"
      ],
      "metadata": {
        "id": "nR06K7ny58VP"
      },
      "execution_count": null,
      "outputs": []
    },
    {
      "cell_type": "markdown",
      "source": [
        "I use Groq's API to interact with powerful open-source language models like Llama 3."
      ],
      "metadata": {
        "id": "gWTr1WCx-bBP"
      }
    },
    {
      "cell_type": "code",
      "source": [
        "from llama_index.llms.groq import Groq\n",
        "\n",
        "model = \"llama3-70b-8192\"\n",
        "\n",
        "llm = Groq(\n",
        "    model=model,\n",
        "    max_new_tokens=768,\n",
        "    temperature=0.01,\n",
        "    top_p=0.95,\n",
        "    repetition_penalty=1.03,\n",
        "    api_key=os.environ.get(\n",
        "        \"GROQ_API_KEY\"\n",
        "    ),\n",
        ")"
      ],
      "metadata": {
        "id": "sRTd1Jry-jcv"
      },
      "execution_count": null,
      "outputs": []
    },
    {
      "cell_type": "markdown",
      "source": [
        "`model`: The model to use.\n",
        "\n",
        "`max_tokens`: The maximum number of tokens that the model should generate in its response.\n",
        "\n",
        "`temperature`: A value between 0 and 1 that controls the randomness of the model's generation. A lower temperature results in more predictable, constrained output, while a higher temperature yields more creative and diverse text.\n",
        "\n",
        "`top_p`: A value between 0 and 1 that controls the diversity of the model's predictions. A higher top_p value prioritizes the most probable tokens, while a lower top_p value encourages the model to explore a wider range of possibilities."
      ],
      "metadata": {
        "id": "N4eEQ7meD4pO"
      }
    },
    {
      "cell_type": "code",
      "source": [
        "answer_1 = llm.complete(\"Who is the famous philosopher in Germany?\")\n",
        "print (answer_1)"
      ],
      "metadata": {
        "colab": {
          "base_uri": "https://localhost:8080/"
        },
        "id": "sCGQsm1zEPXj",
        "outputId": "32342936-0a92-4579-8f7d-e49c2425a960"
      },
      "execution_count": null,
      "outputs": [
        {
          "output_type": "stream",
          "name": "stdout",
          "text": [
            "Germany has a rich philosophical tradition, and there are many famous philosophers from Germany. Here are a few notable ones:\n",
            "\n",
            "1. **Immanuel Kant** (1724-1804): Kant is considered one of the most important figures in modern philosophy. He was born in Königsberg, Prussia (now Kaliningrad, Russia), and is known for his critiques of metaphysics, ethics, and aesthetics. His philosophical system, known as transcendental idealism, had a significant impact on the development of German Idealism and continues to influence philosophy today.\n",
            "2. **Georg Wilhelm Friedrich Hegel** (1770-1831): Hegel was a key figure in German Idealism and is known for his concept of absolute idealism, which posits that reality is ultimately a unified, rational, and spiritual whole. His philosophical system, outlined in his book \"Phenomenology of Spirit,\" is still widely studied and debated today.\n",
            "3. **Arthur Schopenhauer** (1788-1860): Schopenhauer was a German philosopher known for his pessimistic views on life and his concept of the \"will to life,\" which he saw as the fundamental driving force behind all living beings. His philosophy emphasized the importance of aesthetics, morality, and the individual's struggle against the forces of nature.\n",
            "4. **Friedrich Nietzsche** (1844-1900): Nietzsche was a German philosopher and cultural critic who is known for his ideas on the death of God, the will to power, and the Übermensch (or \"Superman\"). His philosophy emphasized individualism, creativity, and the rejection of traditional morality and values.\n",
            "5. **Martin Heidegger** (1889-1976): Heidegger was a German philosopher who is known for his concept of \"Being-in-the-world,\" which emphasizes the importance of human existence and the relationship between humans and the world around them. His philosophy, known as existential phenomenology, has had a significant impact on 20th-century philosophy and continues to influence contemporary thought.\n",
            "\n",
            "These are just a few examples of the many famous philosophers from Germany. Each of these thinkers has made significant contributions to the development of philosophy, and their ideas continue to shape our understanding of the world today.\n"
          ]
        }
      ]
    },
    {
      "cell_type": "code",
      "source": [
        "answer_2 = llm.complete(\"Explain the 'dasein' in English like I am 15 years old\")\n",
        "print(answer_2)"
      ],
      "metadata": {
        "colab": {
          "base_uri": "https://localhost:8080/"
        },
        "id": "5xXeP_v7EHVg",
        "outputId": "a21e1faa-0632-476f-95dc-48600b9d6634"
      },
      "execution_count": null,
      "outputs": [
        {
          "output_type": "stream",
          "name": "stdout",
          "text": [
            "So, you know how we're all humans living on this planet, right? And we're all trying to figure out who we are, what we're doing here, and what life is all about?\n",
            "\n",
            "Well, the German philosopher Martin Heidegger had a lot to say about that. He came up with this concept called \"Dasein\" (pronounced \"DAH-zin\"). It's a German word that's hard to translate directly into English, but I'll try to break it down for you.\n",
            "\n",
            "\"Dasein\" roughly means \"being there\" or \"existence.\" But it's more than that. It's about how we, as humans, experience life and the world around us. It's like, have you ever stopped to think about the fact that you're alive, right now, in this moment? You're breathing, thinking, feeling, and existing in this world.\n",
            "\n",
            "Heidegger said that Dasein is special because it's the only living thing that can think about its own existence. We can wonder about our purpose, question our own mortality, and try to make sense of the world. That's what makes us human, right?\n",
            "\n",
            "Imagine you're sitting in a park, surrounded by trees, birds, and other people. You're just existing in that moment, taking it all in. That's Dasein. You're not just a body or a mind; you're a being that's aware of its own existence.\n",
            "\n",
            "But here's the cool thing about Dasein: it's not just about you as an individual. It's also about how you relate to the world around you. It's about how you understand your place in the world, your relationships with others, and your connection to the environment.\n",
            "\n",
            "So, Dasein is like... it's the way we experience life, the way we think about ourselves and our place in the world, and the way we try to make sense of it all. It's a pretty deep concept, but I hope that helps you get started on understanding it!\n"
          ]
        }
      ]
    },
    {
      "cell_type": "code",
      "source": [
        "answer_3 = llm.complete(\"Why most of philosophers are men?\")\n",
        "print(answer_3)"
      ],
      "metadata": {
        "colab": {
          "base_uri": "https://localhost:8080/"
        },
        "id": "qvlK23OsFJxX",
        "outputId": "6d84521c-3397-49c8-9f6a-bf2367575a2f"
      },
      "execution_count": null,
      "outputs": [
        {
          "output_type": "stream",
          "name": "stdout",
          "text": [
            "What a great question!\n",
            "\n",
            "It's indeed true that, historically, philosophy has been a male-dominated field. There are several reasons for this:\n",
            "\n",
            "1. **Social and cultural factors**: Throughout history, women have faced significant barriers to education, employment, and social mobility. In many societies, women were excluded from formal education, and their roles were limited to domestic duties. This limited their access to philosophical education and opportunities to engage in philosophical debates.\n",
            "2. **Gender stereotypes and biases**: Philosophy has traditionally been seen as a masculine pursuit, associated with rationality, logic, and abstract thinking. Women, on the other hand, were often stereotyped as being more emotional and nurturing, traits not typically associated with philosophical inquiry. These biases have contributed to the underrepresentation of women in philosophy.\n",
            "3. **Lack of role models and mentors**: The absence of female philosophers and mentors has made it more difficult for women to enter and succeed in the field. Without visible role models, women may not have seen philosophy as a viable career option or felt encouraged to pursue it.\n",
            "4. **Exclusion from academic institutions**: Until the 20th century, many universities and academic institutions were male-only or had limited opportunities for women. This limited women's access to philosophical education and training.\n",
            "5. **Publication and citation biases**: Research has shown that women's work is often under-cited and under-published in philosophy journals, which can limit their visibility and impact in the field.\n",
            "6. **Caregiving responsibilities**: Women have historically shouldered a disproportionate share of caregiving responsibilities, which can limit their time and energy for philosophical pursuits.\n",
            "\n",
            "Despite these challenges, there have always been women philosophers who have made significant contributions to the field. Some notable examples include:\n",
            "\n",
            "* Hypatia of Alexandria (c. 350-415 CE)\n",
            "* Mary Wollstonecraft (1759-1797)\n",
            "* Simone de Beauvoir (1908-1986)\n",
            "* Ayn Rand (1905-1982)\n",
            "* Martha Nussbaum (1947-present)\n",
            "* Judith Butler (1956-present)\n",
            "\n",
            "In recent years, there has been a growing effort to increase diversity and inclusion in philosophy, including initiatives to:\n",
            "\n",
            "* Promote women's participation in philosophy conferences and journals\n",
            "* Develop programs to support women in philosophy, such as mentorship and networking opportunities\n",
            "* Incorporate more diverse perspectives and topics into philosophical curricula\n",
            "* Address implicit biases and stereotypes in the field\n",
            "\n",
            "While there is still much work to be done, these efforts aim to create a more inclusive and diverse philosophical community, where women and other underrepresented groups can thrive and contribute to the rich and complex discussions that shape our understanding of the world.\n"
          ]
        }
      ]
    }
  ]
}